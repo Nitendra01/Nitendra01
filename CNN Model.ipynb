{
 "cells": [
  {
   "cell_type": "code",
   "execution_count": 1,
   "id": "11663d74",
   "metadata": {},
   "outputs": [],
   "source": [
    "import tensorflow as tf"
   ]
  },
  {
   "cell_type": "code",
   "execution_count": 2,
   "id": "6cbda6da",
   "metadata": {},
   "outputs": [],
   "source": [
    "import numpy as np"
   ]
  },
  {
   "cell_type": "code",
   "execution_count": 3,
   "id": "e349e41c",
   "metadata": {},
   "outputs": [],
   "source": [
    "import matplotlib.pyplot as plt"
   ]
  },
  {
   "cell_type": "code",
   "execution_count": 4,
   "id": "84bafa55",
   "metadata": {},
   "outputs": [],
   "source": [
    "fm = tf.keras.datasets.fashion_mnist\n",
    "(xtr,ytr),(xtst,ytst) = fm.load_data()"
   ]
  },
  {
   "cell_type": "code",
   "execution_count": 5,
   "id": "ea81c7a5",
   "metadata": {},
   "outputs": [
    {
     "data": {
      "text/plain": [
       "(60000, 28, 28)"
      ]
     },
     "execution_count": 5,
     "metadata": {},
     "output_type": "execute_result"
    }
   ],
   "source": [
    "xtr.shape"
   ]
  },
  {
   "cell_type": "code",
   "execution_count": 6,
   "id": "f2e37508",
   "metadata": {},
   "outputs": [],
   "source": [
    "cn = ['Coat','Trouser','Pullover','Dress','T-shirt','Sandel','Shirt','Sneaker','Bag','Ankle Boot']"
   ]
  },
  {
   "cell_type": "code",
   "execution_count": 7,
   "id": "799d8c26",
   "metadata": {},
   "outputs": [
    {
     "data": {
      "text/plain": [
       "'Ankle Boot'"
      ]
     },
     "execution_count": 7,
     "metadata": {},
     "output_type": "execute_result"
    }
   ],
   "source": [
    "cn[ytr[0]]"
   ]
  },
  {
   "cell_type": "code",
   "execution_count": 8,
   "id": "de5343d3",
   "metadata": {},
   "outputs": [],
   "source": [
    "xtr = xtr.reshape((xtr.shape[0],28,28,1))\n",
    "xtst = xtst.reshape((xtst.shape[0],28,28,1))\n",
    "xtr = xtr/63.0\n",
    "xtst = xtst/63.0"
   ]
  },
  {
   "cell_type": "code",
   "execution_count": 9,
   "id": "ee92fb3d",
   "metadata": {},
   "outputs": [],
   "source": [
    "cnnModel = tf.keras.Sequential([\n",
    "    tf.keras.layers.Conv2D(32,(3,3),input_shape=(28,28,1)),\n",
    "    tf.keras.layers.MaxPooling2D((2,2)),\n",
    "    tf.keras.layers.Conv2D(32,(3,3)),\n",
    "    tf.keras.layers.MaxPooling2D((2,2)),\n",
    "    tf.keras.layers.Flatten(),\n",
    "    tf.keras.layers.Dense(100,activation='relu'),\n",
    "    tf.keras.layers.Dropout(0.2),\n",
    "    tf.keras.layers.Dense(60,activation='relu'),\n",
    "    tf.keras.layers.Dropout(0.1),\n",
    "    tf.keras.layers.Dense(10,activation='softmax')            \n",
    "])"
   ]
  },
  {
   "cell_type": "code",
   "execution_count": 10,
   "id": "27a9fbd5",
   "metadata": {},
   "outputs": [],
   "source": [
    "cnnModel.compile(optimizer='adam',loss='categorical_crossentropy',metrics=['accuracy'])"
   ]
  },
  {
   "cell_type": "code",
   "execution_count": 11,
   "id": "c9058315",
   "metadata": {},
   "outputs": [
    {
     "name": "stdout",
     "output_type": "stream",
     "text": [
      "Epoch 1/5\n",
      "1875/1875 [==============================] - 35s 19ms/step - loss: 0.5380 - accuracy: 0.8055\n",
      "Epoch 2/5\n",
      "1875/1875 [==============================] - 35s 19ms/step - loss: 0.3532 - accuracy: 0.8725\n",
      "Epoch 3/5\n",
      "1875/1875 [==============================] - 34s 18ms/step - loss: 0.3114 - accuracy: 0.8856\n",
      "Epoch 4/5\n",
      "1875/1875 [==============================] - 33s 18ms/step - loss: 0.2842 - accuracy: 0.8961\n",
      "Epoch 5/5\n",
      "1875/1875 [==============================] - 32s 17ms/step - loss: 0.2608 - accuracy: 0.9044\n"
     ]
    },
    {
     "data": {
      "text/plain": [
       "<tensorflow.python.keras.callbacks.History at 0x2028f170520>"
      ]
     },
     "execution_count": 11,
     "metadata": {},
     "output_type": "execute_result"
    }
   ],
   "source": [
    "cnnModel.fit(xtr,tf.keras.utils.to_categorical(ytr),epochs=5)"
   ]
  },
  {
   "cell_type": "code",
   "execution_count": 12,
   "id": "8c305941",
   "metadata": {},
   "outputs": [],
   "source": [
    "y_pred = cnnModel.predict(xtst)"
   ]
  },
  {
   "cell_type": "code",
   "execution_count": 13,
   "id": "0fd2eca1",
   "metadata": {},
   "outputs": [
    {
     "name": "stdout",
     "output_type": "stream",
     "text": [
      "Trouser\n",
      "Trouser\n"
     ]
    }
   ],
   "source": [
    "import numpy as np\n",
    "i = np.random.randint(len(ytst))\n",
    "classLabel = np.argmax(y_pred[i])\n",
    "print(cn[classLabel])\n",
    "print(cn[ytst[i]])"
   ]
  },
  {
   "cell_type": "code",
   "execution_count": null,
   "id": "b596e3f2",
   "metadata": {},
   "outputs": [],
   "source": []
  }
 ],
 "metadata": {
  "kernelspec": {
   "display_name": "Python 3",
   "language": "python",
   "name": "python3"
  },
  "language_info": {
   "codemirror_mode": {
    "name": "ipython",
    "version": 3
   },
   "file_extension": ".py",
   "mimetype": "text/x-python",
   "name": "python",
   "nbconvert_exporter": "python",
   "pygments_lexer": "ipython3",
   "version": "3.8.11"
  }
 },
 "nbformat": 4,
 "nbformat_minor": 5
}
